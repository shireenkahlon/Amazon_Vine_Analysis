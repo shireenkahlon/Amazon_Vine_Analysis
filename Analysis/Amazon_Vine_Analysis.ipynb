{
 "cells": [
  {
   "cell_type": "code",
   "execution_count": 2,
   "metadata": {
    "colab": {
     "base_uri": "https://localhost:8080/"
    },
    "id": "0WmB_LCdBkyM",
    "outputId": "71c8949b-1d60-452f-f672-5b05686735c0"
   },
   "outputs": [
    {
     "name": "stdout",
     "output_type": "stream",
     "text": [
      "\r",
      "0% [Working]\r",
      "            \r",
      "Get:1 http://ppa.launchpad.net/c2d4u.team/c2d4u4.0+/ubuntu bionic InRelease [15.9 kB]\n",
      "\r",
      "0% [Waiting for headers] [Connecting to security.ubuntu.com (91.189.91.38)] [Co\r",
      "                                                                               \r",
      "Hit:2 http://archive.ubuntu.com/ubuntu bionic InRelease\n",
      "\r",
      "0% [Waiting for headers] [Connecting to security.ubuntu.com (91.189.91.38)] [Co\r",
      "                                                                               \r",
      "Get:3 http://archive.ubuntu.com/ubuntu bionic-updates InRelease [88.7 kB]\n",
      "\r",
      "                                                                               \r",
      "Get:4 https://cloud.r-project.org/bin/linux/ubuntu bionic-cran40/ InRelease [3,626 B]\n",
      "\r",
      "                                                                               \r",
      "Hit:5 http://ppa.launchpad.net/cran/libgit2/ubuntu bionic InRelease\n",
      "\r",
      "0% [Waiting for headers] [Connecting to security.ubuntu.com (91.189.91.38)] [Co\r",
      "0% [2 InRelease gpgv 242 kB] [Waiting for headers] [Connecting to security.ubun\r",
      "                                                                               \r",
      "Get:6 http://archive.ubuntu.com/ubuntu bionic-backports InRelease [74.6 kB]\n",
      "\r",
      "0% [2 InRelease gpgv 242 kB] [6 InRelease 8,394 B/74.6 kB 11%] [Connecting to s\r",
      "0% [2 InRelease gpgv 242 kB] [Connecting to security.ubuntu.com (91.189.91.38)]\r",
      "                                                                               \r",
      "Hit:7 http://ppa.launchpad.net/deadsnakes/ppa/ubuntu bionic InRelease\n",
      "\r",
      "0% [2 InRelease gpgv 242 kB] [Waiting for headers] [Connecting to ppa.launchpad\r",
      "                                                                               \r",
      "Hit:8 http://ppa.launchpad.net/graphics-drivers/ppa/ubuntu bionic InRelease\n",
      "\r",
      "                                                                               \r",
      "0% [2 InRelease gpgv 242 kB] [Waiting for headers] [Waiting for headers]\r",
      "                                                                        \r",
      "Get:9 http://security.ubuntu.com/ubuntu bionic-security InRelease [88.7 kB]\n",
      "Ign:10 https://developer.download.nvidia.com/compute/cuda/repos/ubuntu1804/x86_64  InRelease\n",
      "Ign:11 https://developer.download.nvidia.com/compute/machine-learning/repos/ubuntu1804/x86_64  InRelease\n",
      "Get:12 https://developer.download.nvidia.com/compute/cuda/repos/ubuntu1804/x86_64  Release [697 B]\n",
      "Hit:13 https://developer.download.nvidia.com/compute/machine-learning/repos/ubuntu1804/x86_64  Release\n",
      "Get:14 https://developer.download.nvidia.com/compute/cuda/repos/ubuntu1804/x86_64  Release.gpg [836 B]\n",
      "Get:15 http://archive.ubuntu.com/ubuntu bionic-updates/restricted amd64 Packages [426 kB]\n",
      "Get:16 http://archive.ubuntu.com/ubuntu bionic-updates/main amd64 Packages [2,546 kB]\n",
      "Get:17 http://archive.ubuntu.com/ubuntu bionic-updates/multiverse amd64 Packages [31.6 kB]\n",
      "Get:18 http://archive.ubuntu.com/ubuntu bionic-updates/universe amd64 Packages [2,181 kB]\n",
      "Get:19 http://ppa.launchpad.net/c2d4u.team/c2d4u4.0+/ubuntu bionic/main Sources [1,756 kB]\n",
      "Get:20 http://ppa.launchpad.net/c2d4u.team/c2d4u4.0+/ubuntu bionic/main amd64 Packages [899 kB]\n",
      "Ign:22 https://developer.download.nvidia.com/compute/cuda/repos/ubuntu1804/x86_64  Packages\n",
      "Get:22 https://developer.download.nvidia.com/compute/cuda/repos/ubuntu1804/x86_64  Packages [741 kB]\n",
      "Get:23 http://security.ubuntu.com/ubuntu bionic-security/restricted amd64 Packages [396 kB]\n",
      "Get:24 http://security.ubuntu.com/ubuntu bionic-security/main amd64 Packages [2,116 kB]\n",
      "Get:25 http://security.ubuntu.com/ubuntu bionic-security/multiverse amd64 Packages [24.7 kB]\n",
      "Fetched 11.4 MB in 3s (3,753 kB/s)\n",
      "Reading package lists... Done\n"
     ]
    }
   ],
   "source": [
    "import os\n",
    "# Find the latest version of spark 2.0  from http://www-us.apache.org/dist/spark/ and enter as the spark version\n",
    "# For example:\n",
    "# spark_version = 'spark-3.0.2'\n",
    "spark_version = 'spark-3.0.2'\n",
    "os.environ['SPARK_VERSION']=spark_version\n",
    "\n",
    "# Install Spark and Java\n",
    "!apt-get update\n",
    "!apt-get install openjdk-11-jdk-headless -qq > /dev/null\n",
    "!wget -q http://www-us.apache.org/dist/spark/$SPARK_VERSION/$SPARK_VERSION-bin-hadoop2.7.tgz\n",
    "!tar xf $SPARK_VERSION-bin-hadoop2.7.tgz\n",
    "!pip install -q findspark\n",
    "\n",
    "# Set Environment Variables\n",
    "import os\n",
    "os.environ[\"JAVA_HOME\"] = \"/usr/lib/jvm/java-11-openjdk-amd64\"\n",
    "os.environ[\"SPARK_HOME\"] = f\"/content/{spark_version}-bin-hadoop2.7\"\n",
    "\n",
    "# Start a SparkSession\n",
    "import findspark\n",
    "findspark.init()"
   ]
  },
  {
   "cell_type": "code",
   "execution_count": 4,
   "metadata": {
    "id": "Obos6GOqBn7F"
   },
   "outputs": [],
   "source": [
    "#start a spark session\n",
    "from pyspark.sql import SparkSession\n",
    "spark = SparkSession.builder.appName('vine_review_analysis').getOrCreate()"
   ]
  },
  {
   "cell_type": "code",
   "execution_count": 5,
   "metadata": {
    "colab": {
     "base_uri": "https://localhost:8080/"
    },
    "id": "NUB8DcY2BtRb",
    "outputId": "283a185a-64fb-4382-a831-59fc01cc5395"
   },
   "outputs": [
    {
     "name": "stdout",
     "output_type": "stream",
     "text": [
      "+-----------+-----------+--------------+----------+--------------+--------------------+----------------+-----------+-------------+-----------+----+-----------------+--------------------+--------------------+-----------+\n",
      "|marketplace|customer_id|     review_id|product_id|product_parent|       product_title|product_category|star_rating|helpful_votes|total_votes|vine|verified_purchase|     review_headline|         review_body|review_date|\n",
      "+-----------+-----------+--------------+----------+--------------+--------------------+----------------+-----------+-------------+-----------+----+-----------------+--------------------+--------------------+-----------+\n",
      "|         US|   28794885| REAKC26P07MDN|B00Q0K9604|     510387886|(8-Pack) EZwhelp ...|    Pet Products|          5|            0|          0|   N|                Y|A great purchase ...|Best belly bands ...| 2015-08-31|\n",
      "|         US|   11488901|R3NU7OMZ4HQIEG|B00MBW5O9W|     912374672|Warren Eckstein's...|    Pet Products|          2|            0|          1|   N|                Y|My dogs love Hugs...|My dogs love Hugs...| 2015-08-31|\n",
      "|         US|   43214993|R14QJW3XF8QO1P|B0084OHUIO|     902215727|Tyson's True Chew...|    Pet Products|          5|            0|          0|   N|                Y|I have been purch...|I have been purch...| 2015-08-31|\n",
      "|         US|   12835065|R2HB7AX0394ZGY|B001GS71K2|     568880110|Soft Side Pet Cra...|    Pet Products|          5|            0|          0|   N|                Y|it is easy to ope...|It is extremely w...| 2015-08-31|\n",
      "|         US|   26334022| RGKMPDQGSAHR3|B004ABH1LG|     692846826|EliteField 3-Door...|    Pet Products|          5|            0|          0|   N|                Y|           Dog crate|Worked really wel...| 2015-08-31|\n",
      "|         US|   22283621|R1DJCVPQGCV66E|B00AX0LFM4|     590674141|Carlson 68-Inch W...|    Pet Products|          5|            0|          0|   N|                Y|          Five Stars|I love my gates! ...| 2015-08-31|\n",
      "|         US|   14469895|R3V52EAWLPBFQG|B00DQFZGZ0|     688538603|Dog Seat Cover Wi...|    Pet Products|          3|            0|          0|   N|                Y|Seat belt tugs on...|Didn't quite work...| 2015-08-31|\n",
      "|         US|   50896354|R3DKO8J1J28QBI|B00DIRF9US|     742358789|The Bird Catcher ...|    Pet Products|          2|            0|          0|   N|                Y|Great Pole, but S...|I had the origina...| 2015-08-31|\n",
      "|         US|   18440567| R764DBXGRNECG|B00JRCBFUG|     869798483|Cat Bed - Purrfec...|    Pet Products|          5|            1|          1|   N|                N|     My cat loves it|The pad is very s...| 2015-08-31|\n",
      "|         US|   50502362| RW1853GAT0Z9F|B000L3XYZ4|     501118658|PetSafe Drinkwell...|    Pet Products|          5|            0|          0|   N|                Y|          Five Stars|My cat drinks mor...| 2015-08-31|\n",
      "|         US|   33930128|R33GITXNUF1AD4|B00BOEXWFG|     454737777|Contech ZenDog Ca...|    Pet Products|          2|            0|          0|   N|                Y|Also had to pull ...|Much smaller than...| 2015-08-31|\n",
      "|         US|   43534290|R1H7AVM81TAYRV|B001HBBQKY|     420905252|Wellness Crunchy ...|    Pet Products|          1|            2|          2|   N|                Y|DO NOT PURCHASE -...|I used to love th...| 2015-08-31|\n",
      "|         US|   45555864|R2ZOYAQZNNZZWV|B007O1FHB0|     302588963|Rx Vitamins Essen...|    Pet Products|          5|            0|          0|   N|                Y|          Five Stars|Recommended by my...| 2015-08-31|\n",
      "|         US|   11147406|R2FN1H3CGW6J8H|B001P3NU30|     525778264|Virbac C.E.T. Enz...|    Pet Products|          1|            0|          0|   N|                Y|Received wrong pr...|Yes I  ordered fo...| 2015-08-31|\n",
      "|         US|    6495678| RJB41Q575XNG4|B00ZP6HS6S|     414117299|Kitty Shack - 2 i...|    Pet Products|          5|            0|          3|   N|                Y|          Five Stars|      It falls apart| 2015-08-31|\n",
      "|         US|    2019416|R28W8BM1587CPF|B00IP05CUA|     833937853|Wellness Kittles ...|    Pet Products|          5|            0|          0|   N|                Y|kitty is ravenous...|My cat really lov...| 2015-08-31|\n",
      "|         US|   40459386|R1II0M01NIG293|B001U8Y598|      85343577|OmniPet Anti-Ant ...|    Pet Products|          2|            0|          0|   N|                N|Maybe other speci...|This bowl is not ...| 2015-08-31|\n",
      "|         US|   23126800| RMB8N0DBRH34O|B011AY4JWO|     499241195|K9KONNECTION [New...|    Pet Products|          5|            1|          1|   N|                Y|This works, dog n...|I have a small do...| 2015-08-31|\n",
      "|         US|   30238476|R24WB6A6WVIPU6|B00DDSHE5A|     409532388|SUNSEED COMPANY 3...|    Pet Products|          5|            0|          0|   N|                Y|    Yummy for Bunny!|Bunny loves it! E...| 2015-08-31|\n",
      "|         US|   35113999| ROCJSH0P9YSRW|B00PJW5OR8|     259271919|CXB1983(TM)Cute P...|    Pet Products|          5|            0|          0|   N|                Y|excellent price, ...|Petfect,,quality ...| 2015-08-31|\n",
      "+-----------+-----------+--------------+----------+--------------+--------------------+----------------+-----------+-------------+-----------+----+-----------------+--------------------+--------------------+-----------+\n",
      "only showing top 20 rows\n",
      "\n"
     ]
    }
   ],
   "source": [
    "#import in dataset\n",
    "from pyspark import SparkFiles\n",
    "url = 'https://s3.amazonaws.com/amazon-reviews-pds/tsv/amazon_reviews_us_Pet_Products_v1_00.tsv.gz'\n",
    "spark.sparkContext.addFile(url)\n",
    "df = spark.read.csv(SparkFiles.get('amazon_reviews_us_Pet_Products_v1_00.tsv.gz'), sep='\\t', inferSchema=True, header=True)\n",
    "df.show()"
   ]
  },
  {
   "cell_type": "code",
   "execution_count": 6,
   "metadata": {
    "colab": {
     "base_uri": "https://localhost:8080/"
    },
    "id": "H1K6Tu1iBvkO",
    "outputId": "f1062344-c359-4cfa-9969-bb6e7724c4d2"
   },
   "outputs": [
    {
     "name": "stdout",
     "output_type": "stream",
     "text": [
      "+--------------+-----------+-------------+-----------+----+-----------------+\n",
      "|     review_id|star_rating|helpful_votes|total_votes|vine|verified_purchase|\n",
      "+--------------+-----------+-------------+-----------+----+-----------------+\n",
      "| REAKC26P07MDN|          5|            0|          0|   N|                Y|\n",
      "|R3NU7OMZ4HQIEG|          2|            0|          1|   N|                Y|\n",
      "|R14QJW3XF8QO1P|          5|            0|          0|   N|                Y|\n",
      "|R2HB7AX0394ZGY|          5|            0|          0|   N|                Y|\n",
      "| RGKMPDQGSAHR3|          5|            0|          0|   N|                Y|\n",
      "|R1DJCVPQGCV66E|          5|            0|          0|   N|                Y|\n",
      "|R3V52EAWLPBFQG|          3|            0|          0|   N|                Y|\n",
      "|R3DKO8J1J28QBI|          2|            0|          0|   N|                Y|\n",
      "| R764DBXGRNECG|          5|            1|          1|   N|                N|\n",
      "| RW1853GAT0Z9F|          5|            0|          0|   N|                Y|\n",
      "|R33GITXNUF1AD4|          2|            0|          0|   N|                Y|\n",
      "|R1H7AVM81TAYRV|          1|            2|          2|   N|                Y|\n",
      "|R2ZOYAQZNNZZWV|          5|            0|          0|   N|                Y|\n",
      "|R2FN1H3CGW6J8H|          1|            0|          0|   N|                Y|\n",
      "| RJB41Q575XNG4|          5|            0|          3|   N|                Y|\n",
      "|R28W8BM1587CPF|          5|            0|          0|   N|                Y|\n",
      "|R1II0M01NIG293|          2|            0|          0|   N|                N|\n",
      "| RMB8N0DBRH34O|          5|            1|          1|   N|                Y|\n",
      "|R24WB6A6WVIPU6|          5|            0|          0|   N|                Y|\n",
      "| ROCJSH0P9YSRW|          5|            0|          0|   N|                Y|\n",
      "+--------------+-----------+-------------+-----------+----+-----------------+\n",
      "only showing top 20 rows\n",
      "\n"
     ]
    }
   ],
   "source": [
    "# create the vine_table. DataFrame\n",
    "vine_df = df.select(['review_id', 'star_rating', 'helpful_votes', 'total_votes', 'vine', 'verified_purchase'])\n",
    "vine_df.show()"
   ]
  },
  {
   "cell_type": "code",
   "execution_count": 7,
   "metadata": {
    "colab": {
     "base_uri": "https://localhost:8080/"
    },
    "id": "hlVJeRhlBx-g",
    "outputId": "b71047e2-f675-4991-840f-b73ee3da60c1"
   },
   "outputs": [
    {
     "name": "stdout",
     "output_type": "stream",
     "text": [
      "+--------------+-----------+-------------+-----------+----+-----------------+\n",
      "|     review_id|star_rating|helpful_votes|total_votes|vine|verified_purchase|\n",
      "+--------------+-----------+-------------+-----------+----+-----------------+\n",
      "|R21KC552Y6HL8X|          1|           27|         31|   N|                Y|\n",
      "| RX9WC9FTIR1XR|          5|           25|         25|   N|                Y|\n",
      "| RGDCOU1KBHMNG|          3|           29|         31|   N|                Y|\n",
      "| RVTYWID2TPMMY|          2|           35|         42|   N|                Y|\n",
      "|R2CMPZ5VESGRLY|          4|           27|         28|   N|                Y|\n",
      "|R3VQPJZ54B55BA|          5|           62|         64|   N|                N|\n",
      "|R24QM6D7FEDZ5M|          2|           36|         43|   N|                Y|\n",
      "|R3A1VQ3SQDXEJ3|          5|           20|         20|   N|                Y|\n",
      "|  R39GSNW76GYF|          1|           20|         23|   N|                Y|\n",
      "| RPJLR6MFDPXXE|          5|           35|         36|   N|                Y|\n",
      "|R34X0ZGVB3YGYO|          5|           47|         47|   N|                Y|\n",
      "|R2C9O1BOV14Q0Z|          1|           62|         79|   N|                Y|\n",
      "| RM6ZH5J3XDNHK|          5|           79|         87|   N|                Y|\n",
      "|R2E363K75EMW4K|          5|           66|         69|   N|                Y|\n",
      "|R2VJII8VKSJHDF|          1|           24|         29|   N|                N|\n",
      "|R2U35Y2P27M13E|          1|           43|         45|   N|                Y|\n",
      "| RLMZOQL11VHBX|          5|           23|         24|   N|                Y|\n",
      "|R3C6CQQRRA8SYP|          5|           52|         58|   N|                Y|\n",
      "|R3T7YOX0AEDZL3|          1|           45|         47|   N|                N|\n",
      "|R176V3AYS3R4HG|          5|           26|         27|   N|                N|\n",
      "+--------------+-----------+-------------+-----------+----+-----------------+\n",
      "only showing top 20 rows\n",
      "\n"
     ]
    }
   ],
   "source": [
    "#filter dataframe by total_votes that are 20 or more\n",
    "total_votes_df = vine_df.filter(vine_df['total_votes'] >= 20)\n",
    "total_votes_df.show()"
   ]
  },
  {
   "cell_type": "code",
   "execution_count": 8,
   "metadata": {
    "colab": {
     "base_uri": "https://localhost:8080/"
    },
    "id": "7ACKwfNwB0Bz",
    "outputId": "ddcf00fb-8a6c-43c7-ee1a-817b7e678b78"
   },
   "outputs": [
    {
     "name": "stdout",
     "output_type": "stream",
     "text": [
      "+--------------+-----------+-------------+-----------+----+-----------------+\n",
      "|     review_id|star_rating|helpful_votes|total_votes|vine|verified_purchase|\n",
      "+--------------+-----------+-------------+-----------+----+-----------------+\n",
      "|R21KC552Y6HL8X|          1|           27|         31|   N|                Y|\n",
      "| RX9WC9FTIR1XR|          5|           25|         25|   N|                Y|\n",
      "| RGDCOU1KBHMNG|          3|           29|         31|   N|                Y|\n",
      "| RVTYWID2TPMMY|          2|           35|         42|   N|                Y|\n",
      "|R2CMPZ5VESGRLY|          4|           27|         28|   N|                Y|\n",
      "|R3VQPJZ54B55BA|          5|           62|         64|   N|                N|\n",
      "|R24QM6D7FEDZ5M|          2|           36|         43|   N|                Y|\n",
      "|R3A1VQ3SQDXEJ3|          5|           20|         20|   N|                Y|\n",
      "|  R39GSNW76GYF|          1|           20|         23|   N|                Y|\n",
      "| RPJLR6MFDPXXE|          5|           35|         36|   N|                Y|\n",
      "|R34X0ZGVB3YGYO|          5|           47|         47|   N|                Y|\n",
      "|R2C9O1BOV14Q0Z|          1|           62|         79|   N|                Y|\n",
      "| RM6ZH5J3XDNHK|          5|           79|         87|   N|                Y|\n",
      "|R2E363K75EMW4K|          5|           66|         69|   N|                Y|\n",
      "|R2VJII8VKSJHDF|          1|           24|         29|   N|                N|\n",
      "|R2U35Y2P27M13E|          1|           43|         45|   N|                Y|\n",
      "| RLMZOQL11VHBX|          5|           23|         24|   N|                Y|\n",
      "|R3C6CQQRRA8SYP|          5|           52|         58|   N|                Y|\n",
      "|R3T7YOX0AEDZL3|          1|           45|         47|   N|                N|\n",
      "|R176V3AYS3R4HG|          5|           26|         27|   N|                N|\n",
      "+--------------+-----------+-------------+-----------+----+-----------------+\n",
      "only showing top 20 rows\n",
      "\n"
     ]
    }
   ],
   "source": [
    "#filter total_votes_df by helpful_votes divided by the total_votes and filtering to only show the rows in all columns where the result of the calculation is 0.50 or more\n",
    "from pyspark.sql.functions import col\n",
    "helpful_votes_df = total_votes_df.filter(col('helpful_votes')/col('total_votes') >= 0.50)\n",
    "helpful_votes_df.show()"
   ]
  },
  {
   "cell_type": "code",
   "execution_count": 9,
   "metadata": {
    "colab": {
     "base_uri": "https://localhost:8080/"
    },
    "id": "ct6ov7OCB2J8",
    "outputId": "9dcc80df-4bb8-44f3-dd38-bad08a87ae1b"
   },
   "outputs": [
    {
     "name": "stdout",
     "output_type": "stream",
     "text": [
      "+--------------+-----------+-------------+-----------+----+-----------------+\n",
      "|     review_id|star_rating|helpful_votes|total_votes|vine|verified_purchase|\n",
      "+--------------+-----------+-------------+-----------+----+-----------------+\n",
      "|R3A71VR1JZD8WF|          2|           27|         30|   Y|                N|\n",
      "|R16OMUJIGI18JZ|          5|           72|         72|   Y|                N|\n",
      "|R3TS8ZP2FHQ9XR|          5|           39|         42|   Y|                N|\n",
      "|R2MHP919VZN7DI|          5|           29|         30|   Y|                N|\n",
      "| RD2BCTVS59A5L|          2|           20|         20|   Y|                N|\n",
      "|R1JUJLXQ2CMWKF|          4|           25|         26|   Y|                N|\n",
      "|R2T7YE0IFI6N9L|          3|           24|         25|   Y|                N|\n",
      "|R25FI3J7WWOYXM|          3|           55|         58|   Y|                N|\n",
      "|R3P3U4EOWIUD50|          3|           27|         36|   Y|                N|\n",
      "|R3C7MKX7MO6XUC|          5|          216|        219|   Y|                N|\n",
      "|R1DFDDK1ZWKN3D|          2|           61|         65|   Y|                N|\n",
      "|R38G7BRBA2LGGV|          3|           47|         54|   Y|                N|\n",
      "|R2XQXWNEBSB9WO|          4|           52|         56|   Y|                N|\n",
      "|R1UFK241B2KN48|          4|          375|        378|   Y|                N|\n",
      "|R3H9CGK58BVHI5|          4|           42|         46|   Y|                N|\n",
      "|R3FKBT77ZTUPLQ|          5|           15|         20|   Y|                N|\n",
      "|R3NSXBUR3O1CE8|          5|           21|         22|   Y|                N|\n",
      "|R13JI50KH7BTBU|          4|           29|         30|   Y|                N|\n",
      "|R2LWQUQ6KB5ZN5|          4|           29|         36|   Y|                Y|\n",
      "|R1JORBU2J7HG3H|          5|           22|         25|   Y|                N|\n",
      "+--------------+-----------+-------------+-----------+----+-----------------+\n",
      "only showing top 20 rows\n",
      "\n"
     ]
    }
   ],
   "source": [
    "#create a new dataframe which filters through helpful_votes_df to show only rows where vine = 'N'\n",
    "paid_review_df = helpful_votes_df.filter(col('vine') == 'Y')\n",
    "paid_review_df.show()"
   ]
  },
  {
   "cell_type": "code",
   "execution_count": 10,
   "metadata": {
    "colab": {
     "base_uri": "https://localhost:8080/"
    },
    "id": "9POht-mYB4PP",
    "outputId": "e4fbece1-a556-4c44-b16e-7a8ce3c21451"
   },
   "outputs": [
    {
     "name": "stdout",
     "output_type": "stream",
     "text": [
      "+--------------+-----------+-------------+-----------+----+-----------------+\n",
      "|     review_id|star_rating|helpful_votes|total_votes|vine|verified_purchase|\n",
      "+--------------+-----------+-------------+-----------+----+-----------------+\n",
      "|R21KC552Y6HL8X|          1|           27|         31|   N|                Y|\n",
      "| RX9WC9FTIR1XR|          5|           25|         25|   N|                Y|\n",
      "| RGDCOU1KBHMNG|          3|           29|         31|   N|                Y|\n",
      "| RVTYWID2TPMMY|          2|           35|         42|   N|                Y|\n",
      "|R2CMPZ5VESGRLY|          4|           27|         28|   N|                Y|\n",
      "|R3VQPJZ54B55BA|          5|           62|         64|   N|                N|\n",
      "|R24QM6D7FEDZ5M|          2|           36|         43|   N|                Y|\n",
      "|R3A1VQ3SQDXEJ3|          5|           20|         20|   N|                Y|\n",
      "|  R39GSNW76GYF|          1|           20|         23|   N|                Y|\n",
      "| RPJLR6MFDPXXE|          5|           35|         36|   N|                Y|\n",
      "|R34X0ZGVB3YGYO|          5|           47|         47|   N|                Y|\n",
      "|R2C9O1BOV14Q0Z|          1|           62|         79|   N|                Y|\n",
      "| RM6ZH5J3XDNHK|          5|           79|         87|   N|                Y|\n",
      "|R2E363K75EMW4K|          5|           66|         69|   N|                Y|\n",
      "|R2VJII8VKSJHDF|          1|           24|         29|   N|                N|\n",
      "|R2U35Y2P27M13E|          1|           43|         45|   N|                Y|\n",
      "| RLMZOQL11VHBX|          5|           23|         24|   N|                Y|\n",
      "|R3C6CQQRRA8SYP|          5|           52|         58|   N|                Y|\n",
      "|R3T7YOX0AEDZL3|          1|           45|         47|   N|                N|\n",
      "|R176V3AYS3R4HG|          5|           26|         27|   N|                N|\n",
      "+--------------+-----------+-------------+-----------+----+-----------------+\n",
      "only showing top 20 rows\n",
      "\n"
     ]
    }
   ],
   "source": [
    "#create a new dataframe which filters through helpful_votes_df to show only rows where vine = 'N'\n",
    "unpaid_review_df = helpful_votes_df.filter(col('vine') == 'N')\n",
    "unpaid_review_df.show()"
   ]
  },
  {
   "cell_type": "code",
   "execution_count": 11,
   "metadata": {
    "colab": {
     "base_uri": "https://localhost:8080/",
     "height": 37
    },
    "id": "PDYK2uOjB4We",
    "outputId": "6def8cf5-e819-468c-ff88-172a32f938ac"
   },
   "outputs": [
    {
     "data": {
      "application/vnd.google.colaboratory.intrinsic+json": {
       "type": "string"
      },
      "text/plain": [
       "'There are 170 paid reviews and 37840 unpaid reviews'"
      ]
     },
     "execution_count": 11,
     "metadata": {
      "tags": []
     },
     "output_type": "execute_result"
    }
   ],
   "source": [
    "#determine the total number of reviews for both paid and unpaid reviews\n",
    "from pyspark.sql.functions import count\n",
    "\n",
    "count_reviews_paid = paid_review_df[['star_rating']].count()\n",
    "\n",
    "\n",
    "count_reviews_unpaid = unpaid_review_df[['star_rating']].count()\n",
    "f'There are {count_reviews_paid} paid reviews and {count_reviews_unpaid} unpaid reviews'"
   ]
  },
  {
   "cell_type": "code",
   "execution_count": 12,
   "metadata": {
    "colab": {
     "base_uri": "https://localhost:8080/",
     "height": 37
    },
    "id": "LNzRA3LMGmSw",
    "outputId": "12906329-3f91-46dd-8810-15a5c60b344d"
   },
   "outputs": [
    {
     "data": {
      "application/vnd.google.colaboratory.intrinsic+json": {
       "type": "string"
      },
      "text/plain": [
       "'The total number of five-star reviews from Vine members: 65; from unpaid members: 20612'"
      ]
     },
     "execution_count": 12,
     "metadata": {
      "tags": []
     },
     "output_type": "execute_result"
    }
   ],
   "source": [
    "#determine the number of 5-star reviews for both paid and unpaid reviews\n",
    "five_star_paid = paid_review_df.filter(col('star_rating') == 5).count()\n",
    "five_star_paid\n",
    "\n",
    "five_star_unpaid = unpaid_review_df.filter(col('star_rating') == 5).count()\n",
    "five_star_unpaid\n",
    "\n",
    "f'The total number of five-star reviews from Vine members: {five_star_paid}; from unpaid members: {five_star_unpaid}'"
   ]
  },
  {
   "cell_type": "code",
   "execution_count": 25,
   "metadata": {
    "colab": {
     "base_uri": "https://localhost:8080/",
     "height": 37
    },
    "id": "qk-ohVyxKlHp",
    "outputId": "6ed5178d-3be6-4624-cff0-4e897ba8370a"
   },
   "outputs": [
    {
     "data": {
      "application/vnd.google.colaboratory.intrinsic+json": {
       "type": "string"
      },
      "text/plain": [
       "'The percentage of five star ratings for paid reviews is 38.24%, and for unpaid reviews is 54.47%'"
      ]
     },
     "execution_count": 25,
     "metadata": {
      "tags": []
     },
     "output_type": "execute_result"
    }
   ],
   "source": [
    "#calculate the percentages of 5-star reviews for paid and unpaid reviews\n",
    "five_star_reviews_paid = round(five_star_paid/count_reviews_paid, 4)\n",
    "\n",
    "\n",
    "five_star_reviews_unpaid = round(five_star_unpaid / count_reviews_unpaid, 4)\n",
    "\n",
    "f'The percentage of five star ratings for paid reviews is {five_star_reviews_paid*100}%, and for unpaid reviews is {five_star_reviews_unpaid*100}%'\n"
   ]
  }
 ],
 "metadata": {
  "colab": {
   "collapsed_sections": [],
   "name": "Amazon_Vine_Analysis.ipynb",
   "provenance": []
  },
  "kernelspec": {
   "display_name": "Python 3",
   "language": "python",
   "name": "python3"
  },
  "language_info": {
   "codemirror_mode": {
    "name": "ipython",
    "version": 3
   },
   "file_extension": ".py",
   "mimetype": "text/x-python",
   "name": "python",
   "nbconvert_exporter": "python",
   "pygments_lexer": "ipython3",
   "version": "3.8.5"
  }
 },
 "nbformat": 4,
 "nbformat_minor": 1
}
